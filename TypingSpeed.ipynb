{
 "cells": [
  {
   "cell_type": "code",
   "execution_count": null,
   "id": "23b0ecdd",
   "metadata": {},
   "outputs": [
    {
     "name": "stdout",
     "output_type": "stream",
     "text": [
      "-+--+--+--+--+--+--+--+--+--+-\n",
      "\n",
      "Enter the phrase as fast as possible and with accuracy\n",
      "\n",
      "Python is an interpreted, high-level programming language \n",
      "\n",
      "python is and interpereted , high level programming language\n",
      "Total words \t : 9\n",
      "Time used \t : 29.51 seconds\n",
      "Your accuracy \t : 42.9 %\n",
      "Speed is \t : 18.3 words per minute\n",
      "Do you want to retryyes\n",
      "-+--+--+--+--+--+--+--+--+--+-\n",
      "\n",
      "Enter the phrase as fast as possible and with accuracy\n",
      "\n",
      "Python is an interpreted, high-level programming language \n",
      "\n"
     ]
    }
   ],
   "source": [
    "import time\n",
    "string = \"Python is an interpreted, high-level programming language\"\n",
    "word_count = len(string.split())\n",
    "border = '-+-'*10\n",
    "\n",
    "def createbox():\n",
    "    print(border)\n",
    "    print()\n",
    "    print('Enter the phrase as fast as possible and with accuracy')\n",
    "    print()\n",
    "\n",
    "while  1:\n",
    "    t0 = time.time()\n",
    "    createbox()\n",
    "    print(string,'\\n')\n",
    "    inputText = str(input())\n",
    "    t1 = time.time()\n",
    "    lengthOfInput = len(inputText.split())\n",
    "    accuracy = len(set(inputText.split()) & set(string.split()))\n",
    "    accuracy = (accuracy/word_count)\n",
    "    timeTaken = (t1 - t0)\n",
    "    wordsperminute = (lengthOfInput/timeTaken)*60 \n",
    "    #Showing results now\n",
    "    print('Total words \\t :' ,lengthOfInput)\n",
    "    print('Time used \\t :',round(timeTaken,2),'seconds')\n",
    "    print('Your accuracy \\t :',round(accuracy,3)*100,'%')\n",
    "    print('Speed is \\t :' , round(wordsperminute,2),'words per minute')\n",
    "    print(\"Do you want to retry\",end='')\n",
    "    if input():\n",
    "        continue\n",
    "    else:\n",
    "        print('Thank you , bye bye .')\n",
    "        time.sleep(1.5)\n",
    "        break"
   ]
  },
  {
   "cell_type": "code",
   "execution_count": null,
   "id": "85c1fdab",
   "metadata": {},
   "outputs": [],
   "source": []
  }
 ],
 "metadata": {
  "kernelspec": {
   "display_name": "Python 3 (ipykernel)",
   "language": "python",
   "name": "python3"
  },
  "language_info": {
   "codemirror_mode": {
    "name": "ipython",
    "version": 3
   },
   "file_extension": ".py",
   "mimetype": "text/x-python",
   "name": "python",
   "nbconvert_exporter": "python",
   "pygments_lexer": "ipython3",
   "version": "3.8.3"
  }
 },
 "nbformat": 4,
 "nbformat_minor": 5
}
